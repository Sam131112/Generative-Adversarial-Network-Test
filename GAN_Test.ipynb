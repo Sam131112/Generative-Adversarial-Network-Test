{
  "nbformat": 4,
  "nbformat_minor": 0,
  "metadata": {
    "colab": {
      "name": "GAN Test.ipynb",
      "version": "0.3.2",
      "provenance": []
    },
    "kernelspec": {
      "name": "python3",
      "display_name": "Python 3"
    },
    "accelerator": "TPU"
  },
  "cells": [
    {
      "cell_type": "markdown",
      "metadata": {
        "id": "hIv0RpuXgEaX",
        "colab_type": "text"
      },
      "source": [
        "### In this NoteBook I try to generate fake samples from a  standard normal distribution from a noise distribution (Uniform Distribution) using generative adversarial networks."
      ]
    },
    {
      "cell_type": "code",
      "metadata": {
        "id": "bqmGB1Z_ev-N",
        "colab_type": "code",
        "colab": {}
      },
      "source": [
        "import torch\n",
        "import torch.utils.data as _data\n",
        "#import matplotlib.pyplot as plt\n",
        "from torch.distributions.normal import Normal\n",
        "from torch.distributions.uniform import Uniform\n",
        "m = Normal(torch.tensor([0.0]),torch.tensor([1.0]))\n",
        "m1 = Uniform(torch.tensor([0.0]),torch.tensor([0.1]))\n",
        "import torch.nn\n",
        "import torch.optim\n",
        "from torch.autograd.variable import Variable\n"
      ],
      "execution_count": 0,
      "outputs": []
    },
    {
      "cell_type": "code",
      "metadata": {
        "id": "CfG3L6L-fJxI",
        "colab_type": "code",
        "colab": {
          "base_uri": "https://localhost:8080/",
          "height": 35
        },
        "outputId": "3b3b91d8-51f8-4278-fc19-d8f62e9bc334"
      },
      "source": [
        "data = []\n",
        "\n",
        "\n",
        "for _ in range(100000):\n",
        "        data.append(m.sample())\n",
        "\n",
        "\n",
        "def noise(size):\n",
        "    _data = []\n",
        "    for _ in range(size):\n",
        "        _data.append(m1.sample().item())\n",
        "\n",
        "    temp = torch.Tensor(_data)\n",
        "    if torch.cuda.is_available():\n",
        "      return temp.view(-1,1).cuda()\n",
        "    else:\n",
        "      return temp.view(-1,1)\n",
        "\n",
        "\n",
        "data = torch.Tensor(data)\n",
        "data = _data.TensorDataset(data)\n",
        "data_loader = _data.DataLoader(data,batch_size=1000,shuffle=True)\n",
        "print(len(data_loader))\n",
        "\n",
        "for n_batch,batch in enumerate(data_loader):\n",
        "    #print(n_batch,batch[0].size(0))\n",
        "    pass\n",
        "\n",
        "d = batch[0].view(-1,1)\n"
      ],
      "execution_count": 3,
      "outputs": [
        {
          "output_type": "stream",
          "text": [
            "100\n"
          ],
          "name": "stdout"
        }
      ]
    },
    {
      "cell_type": "code",
      "metadata": {
        "id": "Tn1AudVPfXXE",
        "colab_type": "code",
        "colab": {}
      },
      "source": [
        "class Discriminator(torch.nn.Module):\n",
        "    def __init__(self):\n",
        "        super(Discriminator,self).__init__()\n",
        "        n_features = 1\n",
        "        n_out = 1\n",
        "        self.hidden0 = torch.nn.Sequential(\n",
        "                torch.nn.Linear(n_features,16),\n",
        "                torch.nn.LeakyReLU(0.2),\n",
        "                torch.nn.Dropout(0.2)\n",
        "        )\n",
        "        self.hidden1 = torch.nn.Sequential(\n",
        "                torch.nn.Linear(16,4),\n",
        "                torch.nn.LeakyReLU(0.2),\n",
        "                torch.nn.Dropout(0.2)\n",
        "        )\n",
        "        self.hidden3 = torch.nn.Sequential(\n",
        "                torch.nn.Linear(4,n_out),\n",
        "                torch.nn.Sigmoid()\n",
        "        )\n",
        "\n",
        "    def forward(self,x):\n",
        "        x = self.hidden0(x)\n",
        "        #print(\"Inter 1\",x.shape)\n",
        "        x = self.hidden1(x)\n",
        "        x = self.hidden3(x)\n",
        "        return x\n",
        "\n",
        "\n",
        "class GeneratorNet(torch.nn.Module):\n",
        "    def __init__(self):\n",
        "        super(GeneratorNet,self).__init__()\n",
        "        n_features = 1\n",
        "        n_out = 1\n",
        "\n",
        "        self.hidden0 = torch.nn.Sequential(\n",
        "                torch.nn.Linear(n_features,16),\n",
        "                torch.nn.LeakyReLU(0.2)\n",
        "                )\n",
        "\n",
        "        self.hidden1 = torch.nn.Sequential(\n",
        "                torch.nn.Linear(16,4),\n",
        "                torch.nn.LeakyReLU(0.2)\n",
        "                )\n",
        "        self.hidden2 = torch.nn.Sequential(\n",
        "                torch.nn.Linear(4,1),\n",
        "                torch.nn.Tanh()\n",
        "                )\n",
        "\n",
        "    def forward(self,x):\n",
        "        x = self.hidden0(x)\n",
        "        x = self.hidden1(x)\n",
        "        x = self.hidden2(x)\n",
        "        return x\n",
        "\n",
        "\n",
        "\n",
        "\n",
        "discriminator = Discriminator()\n",
        "generator = GeneratorNet()\n"
      ],
      "execution_count": 0,
      "outputs": []
    },
    {
      "cell_type": "code",
      "metadata": {
        "id": "7MF4xHFrfjK4",
        "colab_type": "code",
        "colab": {}
      },
      "source": [
        "d_optimizer = torch.optim.Adam(discriminator.parameters(),lr=0.01)\n",
        "g_optimizer = torch.optim.Adam(generator.parameters(),lr=0.01)\n",
        "\n",
        "loss = torch.nn.BCELoss()\n",
        "\n",
        "\n",
        "if torch.cuda.is_available():\n",
        "    discriminator.cuda()\n",
        "    generator.cuda()\n",
        "\n",
        "\n",
        "\n",
        "def real_target(size):\n",
        "    data = Variable(torch.ones(size,1))\n",
        "    if torch.cuda.is_available():\n",
        "      return data.cuda()\n",
        "    else:\n",
        "      return data\n",
        "\n",
        "def zeros_target(size):\n",
        "    data = Variable(torch.zeros(size,1))\n",
        "    if torch.cuda.is_available():\n",
        "      return data.cuda()\n",
        "    else:\n",
        "      return data\n"
      ],
      "execution_count": 0,
      "outputs": []
    },
    {
      "cell_type": "code",
      "metadata": {
        "id": "kbiH9sxlfrVs",
        "colab_type": "code",
        "colab": {}
      },
      "source": [
        "def train_discriminator(opt,real_data,fake_data):\n",
        "    N = real_data.size(0)\n",
        "    opt.zero_grad()\n",
        "    pred_real = discriminator(real_data)\n",
        "    error_r = loss(pred_real,real_target(N))\n",
        "    error_r.backward()\n",
        "    pred_fake = discriminator(fake_data)\n",
        "    error_f = loss(pred_fake,zeros_target(N))\n",
        "    opt.step()\n",
        "    return error_r+error_f,pred_real,pred_fake\n",
        "\n",
        "def train_generator(opt,fake_data):\n",
        "    N = fake_data.size(0)\n",
        "    opt.zero_grad()\n",
        "    pred = discriminator(fake_data)\n",
        "    error = loss(pred,real_target(N))\n",
        "    error.backward()\n",
        "    opt.step()\n",
        "    return error\n",
        "\n"
      ],
      "execution_count": 0,
      "outputs": []
    },
    {
      "cell_type": "code",
      "metadata": {
        "id": "sPF8ewd5f14B",
        "colab_type": "code",
        "colab": {}
      },
      "source": [
        "def main():\n",
        "\n",
        " num_epochs = 1000\n",
        "\n",
        " for epoch in range(num_epochs):\n",
        "    for n_batch,batch in enumerate(data_loader):\n",
        "        d = batch[0].view(-1,1)\n",
        "        N = d.size(0)\n",
        "        real_data = Variable(d)\n",
        "        if torch.cuda.is_available():\n",
        "          real_data = real_data.cuda()\n",
        "        fake_data = generator(noise(N))\n",
        "        d_er,d_pred_rl,p_pred_fk = train_discriminator(d_optimizer,real_data,fake_data)\n",
        "        fake_data = generator(noise(N))\n",
        "        g_error = train_generator(g_optimizer,fake_data)\n",
        "    if epoch%50 == 0:\n",
        "        fake_data = generator(noise(N))\n",
        "        #print(epoch,fake_data.shape)\n",
        "        print(epoch,torch.mean(fake_data,0),torch.std(fake_data,0),torch.mean(d,0),torch.std(d,0))\n"
      ],
      "execution_count": 0,
      "outputs": []
    },
    {
      "cell_type": "code",
      "metadata": {
        "id": "0La-Vkb7f31v",
        "colab_type": "code",
        "colab": {
          "base_uri": "https://localhost:8080/",
          "height": 55
        },
        "outputId": "0ad52ea4-bad4-4b5f-c41c-d3dee427fe40"
      },
      "source": [
        "main()"
      ],
      "execution_count": 0,
      "outputs": [
        {
          "output_type": "stream",
          "text": [
            "0 tensor([0.9973], grad_fn=<MeanBackward2>) tensor([0.0001], grad_fn=<StdBackward1>) tensor([-0.0357]) tensor([1.0031])\n"
          ],
          "name": "stdout"
        }
      ]
    },
    {
      "cell_type": "code",
      "metadata": {
        "id": "dWjRUgWShjyL",
        "colab_type": "code",
        "colab": {}
      },
      "source": [
        ""
      ],
      "execution_count": 0,
      "outputs": []
    }
  ]
}